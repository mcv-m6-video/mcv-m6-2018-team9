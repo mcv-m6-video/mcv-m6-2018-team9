{
 "cells": [
  {
   "cell_type": "markdown",
   "metadata": {},
   "source": [
    "### Code for defining a multiple Gif with matplotlib.\n",
    "\n",
    "#### We make use of an auxiliar class in order to make the code more easy to read an extend. Any proposition an opinion is welcome!\n",
    "\n",
    "###### Performance is an issue. for a Set of 300 images, it took about 240 s to make the gif!\n"
   ]
  },
  {
   "cell_type": "code",
   "execution_count": 1,
   "metadata": {},
   "outputs": [],
   "source": [
    "import numpy as np\n",
    "import imageio\n",
    "import matplotlib.pyplot as plt\n",
    "\n",
    "from data import cdnet"
   ]
  },
  {
   "cell_type": "markdown",
   "metadata": {},
   "source": [
    "##### Auxiliary class that encodes some properties of the dataset, such as the name and desired position on the resulting grid"
   ]
  },
  {
   "cell_type": "code",
   "execution_count": 2,
   "metadata": {
    "collapsed": true
   },
   "outputs": [],
   "source": [
    "class Batch:\n",
    "    \n",
    "    def __init__(self, images, title, position):\n",
    "        self.images = images\n",
    "        self.name = title\n",
    "        self.pos = position"
   ]
  },
  {
   "cell_type": "code",
   "execution_count": 3,
   "metadata": {
    "collapsed": true
   },
   "outputs": [],
   "source": [
    "def make_gif(BatchList, Size):\n",
    "    \n",
    "    \"\"\"\n",
    "    Function make_gif. Recieves a list of Batch objects containing the image data\n",
    "    and the total size of the grid. Returns a list of matplot images, in order to make \n",
    "    the gif. Hence synchronization might not be an issue no more.\n",
    "    Params:\n",
    "    batch_List\n",
    "    \n",
    "    \"\"\"\n",
    "    \n",
    "    if(not len(BatchList)):\n",
    "        print(\"no batches passed!\")\n",
    "        return\n",
    "    \n",
    "    if(not type(BatchList[0]) == Batch):\n",
    "        print(\"must pass a list of batch\")\n",
    "        \n",
    "    n_images = len(BatchList[0].images)\n",
    "    \n",
    "    if (not len(Size) == 2 or not type(Size[0]) == int or not type(Size[1]) == int):\n",
    "        print(\"incorrect input size\")\n",
    "        return\n",
    "    \n",
    "    for batch in BatchList:\n",
    "        if(n_images != len(batch.images)):\n",
    "            \n",
    "            print(\"each batch must have the same number of images\")\n",
    "            return\n",
    "        \n",
    "        if (not len(batch.pos) == 2 or not type(batch.pos[0]) == int \n",
    "            or not type(batch.pos[1]) == int or batch.pos[0] < 0 or batch.pos[1] < 0):\n",
    "\n",
    "            print(\"Image position for batch \" + batch.title + \n",
    "                  \" must be a tuple of integers\")\n",
    "            return\n",
    "        \n",
    "        if(batch.pos[0]**Size[1] + batch.pos[1] > Size[0]*Size[1]):\n",
    "            print(\"batch \" + batch.title + \" position out of bounds\")\n",
    "            return\n",
    "        \n",
    "        #Define the position of the images in the flattened vector\n",
    "        batch.pos = batch.pos[0]*Size[1] + batch.pos[1]\n",
    "        \n",
    "    #### All comprovations have been done! More could be added\n",
    "\n",
    "    #Define the grid for the plottings \n",
    "    f, axarr = plt.subplots(Size[0], Size[1])\n",
    "    \n",
    "    ## shutdown axes\n",
    "    axes = axarr.flatten()\n",
    "    [ax.axis('off') for ax in axes]\n",
    "    \n",
    "    #get Size of the resulting image\n",
    "    width, height = f.get_size_inches() * f.get_dpi()\n",
    "    width, height= int(width), int(height)\n",
    "\n",
    "    #define the output array\n",
    "    image_list = np.zeros((len(BatchList[0].images),height, width, 3), dtype='uint8')\n",
    "    \n",
    "    canvas = FigureCanvas(f)\n",
    "    \n",
    "    #Maybe this could be speeded up\n",
    "    for i in range(0, len(BatchList[0].images)):\n",
    "        \n",
    "        for batch in BatchList:\n",
    "        \n",
    "            axes[batch.pos].imshow(batch.images[i])\n",
    "            axes[batch.pos].set_title(batch.name)\n",
    "        \n",
    "        \n",
    "        canvas.draw() \n",
    "        image_list[i] = np.fromstring(canvas.tostring_rgb(), dtype='uint8').reshape(height, width, 3)\n",
    "    \n",
    "    return image_list"
   ]
  },
  {
   "cell_type": "markdown",
   "metadata": {},
   "source": [
    "#### Example:\n",
    "\n",
    "First, we get the data"
   ]
  },
  {
   "cell_type": "code",
   "execution_count": 15,
   "metadata": {
    "collapsed": true
   },
   "outputs": [],
   "source": [
    "ims, gts = cdnet.read_dataset('highway', 1200, 1350,\n",
    "                              colorspace='rgb', annotated=True)\n",
    "\n",
    "ims1, gts = cdnet.read_dataset('traffic', 1200, 1350,\n",
    "                              colorspace='rgb', annotated=True)\n",
    "\n",
    "ims2, gts = cdnet.read_dataset('fall', 1200, 1350,\n",
    "                              colorspace='rgb', annotated=True)"
   ]
  },
  {
   "cell_type": "markdown",
   "metadata": {},
   "source": [
    "Then, we construct the batch objects: \n",
    "We assume that the resulting grid will be 2x2"
   ]
  },
  {
   "cell_type": "code",
   "execution_count": 18,
   "metadata": {},
   "outputs": [],
   "source": [
    "BatchHighway = Batch(ims, \"highway\", (1,0))\n",
    "BatchTraffic = Batch(ims1, \"traffic\", (1,1))\n",
    "BatchFall= Batch(ims2, \"fall\", (0,1))"
   ]
  },
  {
   "cell_type": "markdown",
   "metadata": {},
   "source": [
    "We now call the method as follows:"
   ]
  },
  {
   "cell_type": "code",
   "execution_count": 19,
   "metadata": {},
   "outputs": [],
   "source": [
    "GigImages = make_gif([BatchHighway, BatchFall, BatchTraffic], (2,2))"
   ]
  },
  {
   "cell_type": "markdown",
   "metadata": {},
   "source": [
    "And Save the result:"
   ]
  },
  {
   "cell_type": "code",
   "execution_count": 22,
   "metadata": {},
   "outputs": [],
   "source": [
    "imageio.mimsave(\"test1.gif\", GigImages)"
   ]
  },
  {
   "cell_type": "markdown",
   "metadata": {},
   "source": [
    "Another configuration:"
   ]
  },
  {
   "cell_type": "code",
   "execution_count": 23,
   "metadata": {
    "collapsed": true
   },
   "outputs": [],
   "source": [
    "BatchHighway = Batch(ims, \"highway\", (0,0))\n",
    "BatchTraffic = Batch(ims1, \"traffic\", (1,1))\n",
    "BatchFall= Batch(ims2, \"fall\", (2,0))\n",
    "GigImages = make_gif([BatchHighway, BatchFall, BatchTraffic], (3,2))\n",
    "imageio.mimsave(\"test2.gif\", GigImages)"
   ]
  },
  {
   "cell_type": "markdown",
   "metadata": {},
   "source": [
    "Maybe the size of the figure could be a parameter!"
   ]
  }
 ],
 "metadata": {
  "kernelspec": {
   "display_name": "Python [conda root]",
   "language": "python",
   "name": "conda-root-py"
  },
  "language_info": {
   "codemirror_mode": {
    "name": "ipython",
    "version": 3
   },
   "file_extension": ".py",
   "mimetype": "text/x-python",
   "name": "python",
   "nbconvert_exporter": "python",
   "pygments_lexer": "ipython3",
   "version": "3.5.4"
  }
 },
 "nbformat": 4,
 "nbformat_minor": 2
}
