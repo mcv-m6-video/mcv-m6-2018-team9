{
 "cells": [
  {
   "cell_type": "code",
   "execution_count": 3,
   "metadata": {
    "collapsed": true
   },
   "outputs": [],
   "source": [
    "import os\n",
    "import glob\n",
    "import numpy as np\n",
    "from PIL import Image"
   ]
  },
  {
   "cell_type": "code",
   "execution_count": 1,
   "metadata": {
    "collapsed": true
   },
   "outputs": [],
   "source": [
    "def DataIterator(test_path, gt_path, test_prefix='', gt_prefix='',\n",
    "              test_format='png', gt_format='png', start = 0, end = -1, \n",
    "         process_gt = lambda img: img, id_format = lambda form: form, im_proc = lambda proc : proc):\n",
    "    \"\"\"\n",
    "    Iterator over the desired slice of the data\n",
    "    :param test_path: (str) relative or absolute path to the test results images\n",
    "    :param gt_path: (str) relative or absolute path to the ground truth images\n",
    "    :param test_prefix: (str) prefix of the test files before their ID (e.g.\n",
    "    test_A_001235.png has test_A_ as prefix)\n",
    "    :param gt_prefix: (str) prefix of the ground truth files before their ID\n",
    "    (e.g. gt001235.png has gt as prefix)\n",
    "    :param test_format: (str) format of the test images\n",
    "    :param gt_format: (str) format of the ground truth images\n",
    "    :param start: (int) Id of the first element of the sequence\n",
    "    :param start: (int) Id of the last element of the sequence\n",
    "    :param process_gt: function to be applied to the grountruth for obtaining a specific format\n",
    "    :param id_format: function to be applied to the start and end in order to find them on the dataset\n",
    "    :yields: (tuple) Pair of Image - GrounTruth\n",
    "        -Image\n",
    "        -Ground Truth\n",
    "    \"\"\"    \n",
    "    #We are suposing that the images and the gt's have a sortable common part in their names\n",
    "    \n",
    "    #Get all files in each directory\n",
    "    test_files = glob.glob(os.path.join(test_path, test_prefix + '*.' + test_format))\n",
    "    gt_files = glob.glob(os.path.join(gt_path, gt_prefix + '*.' + gt_format))\n",
    "\n",
    "    if len(test_files) == 0:\n",
    "        print (\"No images found!\")\n",
    "        return\n",
    "    \n",
    "    if len(gt_files) == 0:\n",
    "        print (\"No GT found!\")\n",
    "        return    \n",
    "\n",
    "    #We can avoid the suposition that images and gt are ordered or that all files can be found\n",
    "    #in each folder by taking the intersection of their ids\n",
    "    pre_id_imgs = os.path.join(test_path, test_prefix)\n",
    "    pre_id_gt = os.path.join(gt_path, gt_prefix)\n",
    "\n",
    "    indices_im = np.array([filename.replace(pre_id_imgs, '').replace('.' + test_format,'') for filename in test_files])\n",
    "    indices_gt = np.array([filename.replace(pre_id_gt, '').replace('.' + gt_format,'') for filename in gt_files])\n",
    "\n",
    "    common_id = np.in1d(indices_im , indices_gt)\n",
    "\n",
    "    #Get common indices in image folder and GT folder\n",
    "    indices_im = indices_im[common_id]\n",
    "\n",
    "    #filter indices between init and end \n",
    "    ini = np.where(indices_im == id_format(start))\n",
    "    end = np.where(indices_im == id_format(end))\n",
    "\n",
    "    if(len(ini[0])):\n",
    "        ini = ini[0][0]\n",
    "    else:\n",
    "        print (\"Couldn't find first element in the dataset. Starting from the beggining\")\n",
    "        ini = 0\n",
    "\n",
    "    if(len(end[0])):\n",
    "        end = end[0][0]\n",
    "    else:\n",
    "        print (\"Couldn't find last element of the sequence in the dataset. Ending at the last element\")\n",
    "        end = -1\n",
    "    \n",
    "    if end < ini:\n",
    "        print(\"last element comes before than the first. Inverting them. Possible corruption?\")\n",
    "        ini, end = end, ini\n",
    "    \n",
    "    #Get target elements               \n",
    "    indices_im = indices_im[ini:end]\n",
    "\n",
    "    #Reform path's with common indices\n",
    "    for Im_p, gt_p in [(pre_id_imgs + ind + '.' + test_format, pre_id_gt + ind + '.' + gt_format) for ind in indices_im]:\n",
    "            \n",
    "            #These prints are only in the notebook!\n",
    "            print (Im_p)\n",
    "            print(gt_p)\n",
    "            \n",
    "            pil_img_test = Image.open(Im_p)\n",
    "            img_test = proc(np.array(pil_img_test))\n",
    "            \n",
    "            pil_img_gt = Image.open(gt_p)\n",
    "            real_img_gt = process_gt(np.array(pil_img_gt))\n",
    "            \n",
    "            yield(img_test, real_img_gt)\n",
    "\n"
   ]
  },
  {
   "cell_type": "code",
   "execution_count": 7,
   "metadata": {},
   "outputs": [],
   "source": [
    "def id_format(x):\n",
    "    return str(int(x)).zfill(6)\n",
    "\n",
    "dataset = 'fall'\n",
    "\n",
    "gt_folder = os.path.join('datasets', dataset,'groundtruth')\n",
    "\n",
    "tests_folder = os.path.join('datasets', dataset,\n",
    "                                'input')  \n",
    "\n",
    "\n",
    "x = DataIterator(tests_folder, gt_folder, test_prefix='in',\n",
    "                               gt_prefix='gt', test_format='jpg',\n",
    "                               gt_format='png',start = 1, end = 3, id_format = id_format)"
   ]
  },
  {
   "cell_type": "code",
   "execution_count": 8,
   "metadata": {
    "scrolled": true
   },
   "outputs": [
    {
     "name": "stdout",
     "output_type": "stream",
     "text": [
      "datasets\\fall\\input\\in000001.jpg\n",
      "datasets\\fall\\groundtruth\\gt000001.png\n"
     ]
    },
    {
     "data": {
      "text/plain": [
       "(array([[[180, 191, 209],\n",
       "         [180, 191, 209],\n",
       "         [180, 191, 209],\n",
       "         ..., \n",
       "         [247, 255, 255],\n",
       "         [245, 254, 253],\n",
       "         [245, 254, 253]],\n",
       " \n",
       "        [[181, 192, 210],\n",
       "         [181, 192, 210],\n",
       "         [180, 191, 209],\n",
       "         ..., \n",
       "         [246, 255, 254],\n",
       "         [246, 255, 254],\n",
       "         [248, 255, 255]],\n",
       " \n",
       "        [[181, 192, 210],\n",
       "         [181, 192, 210],\n",
       "         [181, 192, 210],\n",
       "         ..., \n",
       "         [246, 255, 254],\n",
       "         [248, 255, 255],\n",
       "         [249, 255, 255]],\n",
       " \n",
       "        ..., \n",
       "        [[222, 213, 184],\n",
       "         [223, 214, 185],\n",
       "         [224, 215, 186],\n",
       "         ..., \n",
       "         [186, 190, 189],\n",
       "         [185, 189, 188],\n",
       "         [185, 189, 188]],\n",
       " \n",
       "        [[207, 198, 169],\n",
       "         [214, 205, 176],\n",
       "         [216, 207, 178],\n",
       "         ..., \n",
       "         [189, 193, 192],\n",
       "         [188, 192, 191],\n",
       "         [188, 192, 191]],\n",
       " \n",
       "        [[204, 195, 166],\n",
       "         [217, 208, 179],\n",
       "         [224, 215, 186],\n",
       "         ..., \n",
       "         [189, 193, 192],\n",
       "         [189, 193, 192],\n",
       "         [189, 193, 192]]], dtype=uint8), array([[85, 85, 85, ..., 85, 85, 85],\n",
       "        [85, 85, 85, ..., 85, 85, 85],\n",
       "        [85, 85, 85, ..., 85, 85, 85],\n",
       "        ..., \n",
       "        [85, 85, 85, ..., 85, 85, 85],\n",
       "        [85, 85, 85, ..., 85, 85, 85],\n",
       "        [85, 85, 85, ..., 85, 85, 85]], dtype=uint8))"
      ]
     },
     "execution_count": 8,
     "metadata": {},
     "output_type": "execute_result"
    }
   ],
   "source": [
    "next(x)"
   ]
  },
  {
   "cell_type": "code",
   "execution_count": 9,
   "metadata": {
    "scrolled": true
   },
   "outputs": [
    {
     "name": "stdout",
     "output_type": "stream",
     "text": [
      "datasets\\fall\\input\\in000002.jpg\n",
      "datasets\\fall\\groundtruth\\gt000002.png\n"
     ]
    },
    {
     "data": {
      "text/plain": [
       "(array([[[181, 192, 210],\n",
       "         [181, 192, 210],\n",
       "         [180, 191, 209],\n",
       "         ..., \n",
       "         [246, 254, 255],\n",
       "         [246, 254, 255],\n",
       "         [248, 255, 255]],\n",
       " \n",
       "        [[181, 192, 210],\n",
       "         [181, 192, 210],\n",
       "         [180, 191, 209],\n",
       "         ..., \n",
       "         [248, 255, 255],\n",
       "         [247, 255, 255],\n",
       "         [247, 255, 255]],\n",
       " \n",
       "        [[182, 193, 211],\n",
       "         [181, 192, 210],\n",
       "         [180, 191, 209],\n",
       "         ..., \n",
       "         [249, 255, 255],\n",
       "         [248, 255, 255],\n",
       "         [246, 254, 255]],\n",
       " \n",
       "        ..., \n",
       "        [[231, 217, 191],\n",
       "         [233, 219, 193],\n",
       "         [233, 219, 193],\n",
       "         ..., \n",
       "         [185, 189, 188],\n",
       "         [185, 189, 188],\n",
       "         [185, 189, 188]],\n",
       " \n",
       "        [[219, 205, 179],\n",
       "         [224, 210, 184],\n",
       "         [224, 210, 184],\n",
       "         ..., \n",
       "         [190, 194, 193],\n",
       "         [189, 193, 192],\n",
       "         [189, 193, 192]],\n",
       " \n",
       "        [[220, 206, 180],\n",
       "         [228, 214, 188],\n",
       "         [229, 215, 189],\n",
       "         ..., \n",
       "         [188, 192, 191],\n",
       "         [187, 191, 190],\n",
       "         [186, 190, 189]]], dtype=uint8), array([[85, 85, 85, ..., 85, 85, 85],\n",
       "        [85, 85, 85, ..., 85, 85, 85],\n",
       "        [85, 85, 85, ..., 85, 85, 85],\n",
       "        ..., \n",
       "        [85, 85, 85, ..., 85, 85, 85],\n",
       "        [85, 85, 85, ..., 85, 85, 85],\n",
       "        [85, 85, 85, ..., 85, 85, 85]], dtype=uint8))"
      ]
     },
     "execution_count": 9,
     "metadata": {},
     "output_type": "execute_result"
    }
   ],
   "source": [
    "next(x)"
   ]
  },
  {
   "cell_type": "code",
   "execution_count": 10,
   "metadata": {},
   "outputs": [
    {
     "ename": "StopIteration",
     "evalue": "",
     "output_type": "error",
     "traceback": [
      "\u001b[1;31m---------------------------------------------------------------------------\u001b[0m",
      "\u001b[1;31mStopIteration\u001b[0m                             Traceback (most recent call last)",
      "\u001b[1;32m<ipython-input-10-5e4e57af3a97>\u001b[0m in \u001b[0;36m<module>\u001b[1;34m()\u001b[0m\n\u001b[1;32m----> 1\u001b[1;33m \u001b[0mnext\u001b[0m\u001b[1;33m(\u001b[0m\u001b[0mx\u001b[0m\u001b[1;33m)\u001b[0m\u001b[1;33m\u001b[0m\u001b[0m\n\u001b[0m",
      "\u001b[1;31mStopIteration\u001b[0m: "
     ]
    }
   ],
   "source": [
    "next(x)"
   ]
  },
  {
   "cell_type": "code",
   "execution_count": null,
   "metadata": {
    "collapsed": true
   },
   "outputs": [],
   "source": []
  }
 ],
 "metadata": {
  "kernelspec": {
   "display_name": "Python [default]",
   "language": "python",
   "name": "python3"
  },
  "language_info": {
   "codemirror_mode": {
    "name": "ipython",
    "version": 3
   },
   "file_extension": ".py",
   "mimetype": "text/x-python",
   "name": "python",
   "nbconvert_exporter": "python",
   "pygments_lexer": "ipython3",
   "version": "3.5.4"
  }
 },
 "nbformat": 4,
 "nbformat_minor": 2
}
