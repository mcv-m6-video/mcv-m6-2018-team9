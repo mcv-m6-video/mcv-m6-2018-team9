{
 "cells": [
  {
   "cell_type": "code",
   "execution_count": 1,
   "metadata": {
    "collapsed": true
   },
   "outputs": [],
   "source": [
    "import os\n",
    "import glob\n",
    "import numpy as np\n",
    "from PIL import Image\n",
    "import Iterator"
   ]
  },
  {
   "cell_type": "markdown",
   "metadata": {},
   "source": [
    "### We can call the iterator by specifying the dataset and the ids of the first and last images of the sequence\n",
    "\n",
    "For example, if we want to take Highway 1050 - 1350 (last included), we should do:"
   ]
  },
  {
   "cell_type": "code",
   "execution_count": 2,
   "metadata": {
    "collapsed": true
   },
   "outputs": [],
   "source": [
    "x = Iterator.DataIterator(\"highway\", 1050,1351)"
   ]
  },
  {
   "cell_type": "markdown",
   "metadata": {},
   "source": [
    "#### We can obtain data by using function next() or by direct iteration:"
   ]
  },
  {
   "cell_type": "code",
   "execution_count": 3,
   "metadata": {
    "scrolled": true
   },
   "outputs": [
    {
     "name": "stdout",
     "output_type": "stream",
     "text": [
      "(480, 720, 3)\n"
     ]
    }
   ],
   "source": [
    "im,gt = next(x)\n",
    "print(im.shape)"
   ]
  },
  {
   "cell_type": "code",
   "execution_count": 4,
   "metadata": {},
   "outputs": [
    {
     "name": "stdout",
     "output_type": "stream",
     "text": [
      "301\n"
     ]
    }
   ],
   "source": [
    "x = Iterator.DataIterator(\"highway\", 1050,1351)\n",
    "NumberOfImages = 0\n",
    "for im, gt in x:\n",
    "    NumberOfImages += 1\n",
    "print(NumberOfImages)"
   ]
  },
  {
   "cell_type": "markdown",
   "metadata": {},
   "source": [
    "### If we want to use grayscale images or prepare the grountruth ini a certain way, we can pass the correspondent functions to the iterator  \n",
    "\n",
    "We assume that these functions recieve a numpy array as parameter"
   ]
  },
  {
   "cell_type": "code",
   "execution_count": 5,
   "metadata": {},
   "outputs": [],
   "source": [
    "from skimage.color import rgb2gray\n",
    "\n",
    "def grayscale(im):\n",
    "    \n",
    "    #image is already in grayscale\n",
    "    if len(im.shape) == 2:\n",
    "        r,c = im.shape\n",
    "        return np.reshape(im, (r,c,1))\n",
    "    \n",
    "    else:\n",
    "        r,c,ch = im.shape\n",
    "        return np.reshape( rgb2gray(im), (r,c,1))\n",
    "\n",
    "\n",
    "def gt_preparation(gt):\n",
    "    return np.where(gt <= 85, 1, 0)\n",
    "    \n",
    "y = Iterator.DataIterator(\"highway\", 1050,1351, grayscale, gt_preparation)"
   ]
  },
  {
   "cell_type": "code",
   "execution_count": 6,
   "metadata": {},
   "outputs": [],
   "source": [
    "im, gt = next(y)"
   ]
  },
  {
   "cell_type": "code",
   "execution_count": 7,
   "metadata": {},
   "outputs": [
    {
     "name": "stdout",
     "output_type": "stream",
     "text": [
      "(480, 720, 1)\n"
     ]
    }
   ],
   "source": [
    "print(im.shape)"
   ]
  },
  {
   "cell_type": "code",
   "execution_count": null,
   "metadata": {
    "collapsed": true
   },
   "outputs": [],
   "source": []
  }
 ],
 "metadata": {
  "kernelspec": {
   "display_name": "Python [default]",
   "language": "python",
   "name": "python3"
  },
  "language_info": {
   "codemirror_mode": {
    "name": "ipython",
    "version": 3
   },
   "file_extension": ".py",
   "mimetype": "text/x-python",
   "name": "python",
   "nbconvert_exporter": "python",
   "pygments_lexer": "ipython3",
   "version": "3.5.4"
  }
 },
 "nbformat": 4,
 "nbformat_minor": 2
}
